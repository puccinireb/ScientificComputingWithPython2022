{
 "cells": [
  {
   "cell_type": "markdown",
   "metadata": {},
   "source": [
    "1\\. **Pandas DataFrame**\n",
    "\n",
    "This exercise consists in analyzing a dataset containg timing information from a series of Time-to-Digital-Converters (TDC) implemented in a pair of FPGAs. Each measurement (i.e. each row of the input file) consists of a flag that specifies the type of message ('HEAD', which in this case is always 1), two addresses of the TDC providing the signal ('FPGA' and 'TDC_CHANNEL'), and the timing information ('ORBIT_CNT', 'BX_COUNTER', and 'TDC_MEAS'). Each TDC count corresponds to 25/30 ns, whereas a unit of BX_COUNTER corresponds to 25 ns, and the ORBIT_CNT is increased every `x` BX_COUNTER. This allows to store the time in a similar way to hours, minutes and seconds."
   ]
  },
  {
   "cell_type": "code",
   "execution_count": 1,
   "metadata": {},
   "outputs": [
    {
     "name": "stdout",
     "output_type": "stream",
     "text": [
      "--2022-11-18 15:56:43--  https://www.dropbox.com/s/xvjzaxzz3ysphme/data_000637.txt\n",
      "Risoluzione di www.dropbox.com (www.dropbox.com)... 162.125.69.18\n",
      "Connessione a www.dropbox.com (www.dropbox.com)|162.125.69.18|:443... connesso.\n",
      "Richiesta HTTP inviata, in attesa di risposta... 302 Found\n",
      "Posizione: /s/raw/xvjzaxzz3ysphme/data_000637.txt [segue]\n",
      "--2022-11-18 15:56:44--  https://www.dropbox.com/s/raw/xvjzaxzz3ysphme/data_000637.txt\n",
      "Riutilizzo della connessione esistente a www.dropbox.com:443.\n",
      "Richiesta HTTP inviata, in attesa di risposta... 302 Found\n",
      "Posizione: https://uc12651110cf1afa7850cfa6f1c5.dl.dropboxusercontent.com/cd/0/inline/Bw9RC6pX1JNSuGpT7V3xbtpl8SMliPCzu12CahGz_1FXpS2H9VYbHqtqnXelYsI70kNUr3ZYA1Mjg6An3GRUcpyAf9x8Ms01na5Cn4bElIRkPNPUAaw6e9y1CxPuOuP2-HB8UJIQw_2a03Mofo_-QumcVR-8ROdbJDzlVvUco_xlwQ/file# [segue]\n",
      "--2022-11-18 15:56:44--  https://uc12651110cf1afa7850cfa6f1c5.dl.dropboxusercontent.com/cd/0/inline/Bw9RC6pX1JNSuGpT7V3xbtpl8SMliPCzu12CahGz_1FXpS2H9VYbHqtqnXelYsI70kNUr3ZYA1Mjg6An3GRUcpyAf9x8Ms01na5Cn4bElIRkPNPUAaw6e9y1CxPuOuP2-HB8UJIQw_2a03Mofo_-QumcVR-8ROdbJDzlVvUco_xlwQ/file\n",
      "Risoluzione di uc12651110cf1afa7850cfa6f1c5.dl.dropboxusercontent.com (uc12651110cf1afa7850cfa6f1c5.dl.dropboxusercontent.com)... 162.125.69.15\n",
      "Connessione a uc12651110cf1afa7850cfa6f1c5.dl.dropboxusercontent.com (uc12651110cf1afa7850cfa6f1c5.dl.dropboxusercontent.com)|162.125.69.15|:443... connesso.\n",
      "Richiesta HTTP inviata, in attesa di risposta... 200 OK\n",
      "Lunghezza: 33179236 (32M) [text/plain]\n",
      "Salvataggio in: «./data/data_000637.txt.1»\n",
      "\n",
      "data_000637.txt.1   100%[===================>]  31,64M  8,78MB/s    in 3,8s    \n",
      "\n",
      "2022-11-18 15:56:48 (8,22 MB/s) - «./data/data_000637.txt.1» salvato [33179236/33179236]\n",
      "\n"
     ]
    }
   ],
   "source": [
    "# If haven't downloaded it yet, please get the data file with wget\n",
    "#!wget https://www.dropbox.com/s/xvjzaxzz3ysphme/data_000637.txt -P ./data/"
   ]
  },
  {
   "cell_type": "markdown",
   "metadata": {},
   "source": [
    "1\\. Create a Pandas DataFrame reading N rows of the `data/data_000637.txt` dataset. Choose N to be smaller than or equal to the maximum number of rows and larger that 10k (check the documentation)."
   ]
  },
  {
   "cell_type": "code",
   "execution_count": 2,
   "metadata": {},
   "outputs": [],
   "source": [
    "import pandas as pd\n",
    "import numpy as np"
   ]
  },
  {
   "cell_type": "code",
   "execution_count": 22,
   "metadata": {},
   "outputs": [
    {
     "name": "stdout",
     "output_type": "stream",
     "text": [
      "    HEAD  FPGA  TDC_CHANNEL   ORBIT_CNT  BX_COUNTER  TDC_MEAS\n",
      "0      1     0          123  3869200167        2374        26\n",
      "1      1     0          124  3869200167        2374        27\n",
      "2      1     0           63  3869200167        2553        28\n",
      "3      1     0           64  3869200167        2558        19\n",
      "4      1     0           64  3869200167        2760        25\n",
      "5      1     0           63  3869200167        2762         4\n",
      "6      1     0           61  3869200167        2772        14\n",
      "7      1     0          139  3869200167        2776         0\n",
      "8      1     0           62  3869200167        2774        21\n",
      "9      1     0           60  3869200167        2788         7\n",
      "10     1     1            7  3869200167        2785         4\n",
      "11     1     0           64  3869200167        2786        19\n",
      "12     1     1            6  3869200167        2792        18\n",
      "13     1     0           36  3869200167        2791        23\n",
      "14     1     0           56  3869200167        2789         3\n",
      "15     1     1          139  3869200167        2797         0\n",
      "16     1     1            8  3869200167        2787        14\n",
      "17     1     0           63  3869200167        2790        10\n",
      "18     1     1            5  3869200167        2795         4\n",
      "19     1     0           53  3869200167        2796        26\n",
      "20     1     1           10  3869200167        2789        14\n",
      "21     1     0           57  3869200167        2789        10\n",
      "22     1     0           61  3869200167        2790        23\n",
      "23     1     0           38  3869200167        2799        15\n",
      "24     1     0           58  3869200167        2795        19\n",
      "25     1     0           62  3869200167        2797        14\n",
      "26     1     0           59  3869200167        2799        14\n",
      "27     1     0           59  3869200167        3081        21\n",
      "28     1     0           61  3869200167        3081         1\n",
      "29     1     0           60  3869200167        3083        20\n",
      "30     1     0          139  3869200167        3085         0\n",
      "31     1     0           62  3869200167        3079         4\n",
      "32     1     0           61  3869200167        3085        25\n",
      "33     1     0           54  3869200167        3134         4\n",
      "34     1     0           53  3869200167        3136        25\n",
      "35     1     0           51  3869200167        3146        20\n",
      "36     1     0           59  3869200167        3176         8\n",
      "37     1     0           53  3869200167        3181         8\n",
      "38     1     0           60  3869200167        3175        17\n",
      "39     1     0          139  3869200167        3186         0\n",
      "40     1     0           54  3869200167        3184        28\n",
      "41     1     0           56  3869200167        3177        20\n",
      "42     1     0           57  3869200167        3187        17\n",
      "43     1     1            1  3869200168           7        18\n",
      "44     1     0           64  3869200168           7        16\n",
      "45     1     1            1  3869200168          13        18\n",
      "46     1     0           63  3869200168           8        28\n",
      "47     1     1            2  3869200168          17        26\n",
      "48     1     0          139  3869200168          23         0\n",
      "49     1     0           61  3869200168          18        17\n"
     ]
    }
   ],
   "source": [
    "#N = 1310720\n",
    "N = 50\n",
    "data = pd.read_csv('data/data_000637.txt', nrows=N)\n",
    "df = pd.DataFrame(data=data)\n",
    "print(df)"
   ]
  },
  {
   "cell_type": "markdown",
   "metadata": {},
   "source": [
    "2\\. Estimate the number of BX in a ORBIT (the value `x`).\n",
    "\n",
    "*Hint*: check when the BX counter reaches the maximum value before being reset to 0."
   ]
  },
  {
   "cell_type": "code",
   "execution_count": null,
   "metadata": {},
   "outputs": [],
   "source": []
  },
  {
   "cell_type": "markdown",
   "metadata": {},
   "source": [
    "3\\. Create a new column with the absolute time in ns (as a combination of the other three columns with timing information) since the beginning of the data acquisition, and convert the new column to a Time Series."
   ]
  },
  {
   "cell_type": "code",
   "execution_count": null,
   "metadata": {},
   "outputs": [],
   "source": []
  },
  {
   "cell_type": "markdown",
   "metadata": {},
   "source": [
    "4\\. Find out the duration of the data taking in hours, minutes and seconds, by using the features of the Time Series. Perform this check reading the whole dataset."
   ]
  },
  {
   "cell_type": "code",
   "execution_count": null,
   "metadata": {},
   "outputs": [],
   "source": []
  },
  {
   "cell_type": "markdown",
   "metadata": {},
   "source": [
    "5\\. Use the `.groupby()` method to find out the noisy channels, i.e. the TDC channels with most counts (print to screen the top 3 and the corresponding counts)"
   ]
  },
  {
   "cell_type": "code",
   "execution_count": null,
   "metadata": {},
   "outputs": [],
   "source": []
  },
  {
   "cell_type": "markdown",
   "metadata": {},
   "source": [
    "6\\. Count the number of non-empty orbits (i.e. the number of orbits with at least one hit)."
   ]
  },
  {
   "cell_type": "code",
   "execution_count": null,
   "metadata": {},
   "outputs": [],
   "source": []
  },
  {
   "cell_type": "markdown",
   "metadata": {},
   "source": [
    "7\\. Count the number of unique orbits with at least one measurement from TDC_CHANNEL=139."
   ]
  },
  {
   "cell_type": "code",
   "execution_count": null,
   "metadata": {},
   "outputs": [],
   "source": []
  },
  {
   "cell_type": "markdown",
   "metadata": {},
   "source": [
    "8\\. Create two Series (one for each FPGA) that have the TDC channel as index, and the number of counts for the corresponding TDC channel as values."
   ]
  },
  {
   "cell_type": "code",
   "execution_count": null,
   "metadata": {},
   "outputs": [],
   "source": []
  },
  {
   "cell_type": "markdown",
   "metadata": {},
   "source": [
    "9\\. **Optional:** Create two histograms (one for each FPGA) that show the number of counts for each TDC channel."
   ]
  },
  {
   "cell_type": "code",
   "execution_count": null,
   "metadata": {},
   "outputs": [],
   "source": []
  }
 ],
 "metadata": {
  "kernelspec": {
   "display_name": "Python 3 (ipykernel)",
   "language": "python",
   "name": "python3"
  },
  "language_info": {
   "codemirror_mode": {
    "name": "ipython",
    "version": 3
   },
   "file_extension": ".py",
   "mimetype": "text/x-python",
   "name": "python",
   "nbconvert_exporter": "python",
   "pygments_lexer": "ipython3",
   "version": "3.10.8"
  }
 },
 "nbformat": 4,
 "nbformat_minor": 2
}
