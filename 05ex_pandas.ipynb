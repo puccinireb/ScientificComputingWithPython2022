{
 "cells": [
  {
   "cell_type": "markdown",
   "metadata": {},
   "source": [
    "1\\. **Pandas DataFrame**\n",
    "\n",
    "This exercise consists in analyzing a dataset containg timing information from a series of Time-to-Digital-Converters (TDC) implemented in a pair of FPGAs. Each measurement (i.e. each row of the input file) consists of a flag that specifies the type of message ('HEAD', which in this case is always 1), two addresses of the TDC providing the signal ('FPGA' and 'TDC_CHANNEL'), and the timing information ('ORBIT_CNT', 'BX_COUNTER', and 'TDC_MEAS'). Each TDC count corresponds to 25/30 ns, whereas a unit of BX_COUNTER corresponds to 25 ns, and the ORBIT_CNT is increased every `x` BX_COUNTER. This allows to store the time in a similar way to hours, minutes and seconds."
   ]
  },
  {
   "cell_type": "code",
   "execution_count": 1,
   "metadata": {},
   "outputs": [
    {
     "name": "stdout",
     "output_type": "stream",
     "text": [
      "--2022-11-18 15:56:43--  https://www.dropbox.com/s/xvjzaxzz3ysphme/data_000637.txt\n",
      "Risoluzione di www.dropbox.com (www.dropbox.com)... 162.125.69.18\n",
      "Connessione a www.dropbox.com (www.dropbox.com)|162.125.69.18|:443... connesso.\n",
      "Richiesta HTTP inviata, in attesa di risposta... 302 Found\n",
      "Posizione: /s/raw/xvjzaxzz3ysphme/data_000637.txt [segue]\n",
      "--2022-11-18 15:56:44--  https://www.dropbox.com/s/raw/xvjzaxzz3ysphme/data_000637.txt\n",
      "Riutilizzo della connessione esistente a www.dropbox.com:443.\n",
      "Richiesta HTTP inviata, in attesa di risposta... 302 Found\n",
      "Posizione: https://uc12651110cf1afa7850cfa6f1c5.dl.dropboxusercontent.com/cd/0/inline/Bw9RC6pX1JNSuGpT7V3xbtpl8SMliPCzu12CahGz_1FXpS2H9VYbHqtqnXelYsI70kNUr3ZYA1Mjg6An3GRUcpyAf9x8Ms01na5Cn4bElIRkPNPUAaw6e9y1CxPuOuP2-HB8UJIQw_2a03Mofo_-QumcVR-8ROdbJDzlVvUco_xlwQ/file# [segue]\n",
      "--2022-11-18 15:56:44--  https://uc12651110cf1afa7850cfa6f1c5.dl.dropboxusercontent.com/cd/0/inline/Bw9RC6pX1JNSuGpT7V3xbtpl8SMliPCzu12CahGz_1FXpS2H9VYbHqtqnXelYsI70kNUr3ZYA1Mjg6An3GRUcpyAf9x8Ms01na5Cn4bElIRkPNPUAaw6e9y1CxPuOuP2-HB8UJIQw_2a03Mofo_-QumcVR-8ROdbJDzlVvUco_xlwQ/file\n",
      "Risoluzione di uc12651110cf1afa7850cfa6f1c5.dl.dropboxusercontent.com (uc12651110cf1afa7850cfa6f1c5.dl.dropboxusercontent.com)... 162.125.69.15\n",
      "Connessione a uc12651110cf1afa7850cfa6f1c5.dl.dropboxusercontent.com (uc12651110cf1afa7850cfa6f1c5.dl.dropboxusercontent.com)|162.125.69.15|:443... connesso.\n",
      "Richiesta HTTP inviata, in attesa di risposta... 200 OK\n",
      "Lunghezza: 33179236 (32M) [text/plain]\n",
      "Salvataggio in: «./data/data_000637.txt.1»\n",
      "\n",
      "data_000637.txt.1   100%[===================>]  31,64M  8,78MB/s    in 3,8s    \n",
      "\n",
      "2022-11-18 15:56:48 (8,22 MB/s) - «./data/data_000637.txt.1» salvato [33179236/33179236]\n",
      "\n"
     ]
    }
   ],
   "source": [
    "# If haven't downloaded it yet, please get the data file with wget\n",
    "#!wget https://www.dropbox.com/s/xvjzaxzz3ysphme/data_000637.txt -P ./data/"
   ]
  },
  {
   "cell_type": "markdown",
   "metadata": {},
   "source": [
    "1\\. Create a Pandas DataFrame reading N rows of the `data/data_000637.txt` dataset. Choose N to be smaller than or equal to the maximum number of rows and larger that 10k (check the documentation)."
   ]
  },
  {
   "cell_type": "code",
   "execution_count": 1,
   "metadata": {},
   "outputs": [],
   "source": [
    "import pandas as pd\n",
    "import numpy as np"
   ]
  },
  {
   "cell_type": "code",
   "execution_count": 2,
   "metadata": {},
   "outputs": [],
   "source": [
    "N = 1310720\n",
    "data = pd.read_csv('data/data_000637.txt', nrows=N)\n",
    "df = pd.DataFrame(data=data)\n",
    "#print(df[:60])"
   ]
  },
  {
   "cell_type": "markdown",
   "metadata": {},
   "source": [
    "2\\. Estimate the number of BX in a ORBIT (the value `x`).\n",
    "\n",
    "*Hint*: check when the BX counter reaches the maximum value before being reset to 0."
   ]
  },
  {
   "cell_type": "code",
   "execution_count": 3,
   "metadata": {},
   "outputs": [
    {
     "name": "stdout",
     "output_type": "stream",
     "text": [
      "number of BX in a ORBIT:  3563\n"
     ]
    }
   ],
   "source": [
    "BX = []\n",
    "\n",
    "for i in range(N-1):\n",
    "    if df.at[i, 'BX_COUNTER'] > df.at[i+1, 'BX_COUNTER'] and df.at[i, 'ORBIT_CNT'] < df.at[i+1, 'ORBIT_CNT']:\n",
    "        if df.at[i+1, 'BX_COUNTER'] == 0:\n",
    "            BX.append(df.at[i, 'BX_COUNTER'])\n",
    "            \n",
    "print(\"number of BX in a ORBIT: \",max(BX))  "
   ]
  },
  {
   "cell_type": "markdown",
   "metadata": {},
   "source": [
    "3\\. Create a new column with the absolute time in ns (as a combination of the other three columns with timing information) since the beginning of the data acquisition, and convert the new column to a Time Series."
   ]
  },
  {
   "cell_type": "code",
   "execution_count": 36,
   "metadata": {},
   "outputs": [],
   "source": [
    "import datetime as dt\n",
    "from datetime import timezone\n",
    "\n",
    "itime = dt.datetime.now()\n",
    "#print(\"begin time:\", itime)\n",
    "itime1 = itime.replace(tzinfo=timezone.utc).timestamp()*10**9\n",
    "\n",
    "time_ns = []\n",
    "\n",
    "for i in range(N):\n",
    "    time_ns.append(itime1+df.at[i, 'ORBIT_CNT']*3563*25+df.at[i, 'BX_COUNTER']*25+df.at[i, 'TDC_MEAS']*25/30)\n",
    "\n",
    "time_ns = np.array(time_ns)\n",
    "time_ns = pd.Series(time_ns, copy=False)\n",
    "time_ns = pd.to_datetime(time_ns)\n",
    "df['TIME_NS'] = time_ns\n",
    "\n",
    "#ftime = dt.datetime.now()\n",
    "#print(\"End time:\", ftime)\n",
    "#print(\"Elapsed time:\", ftime - itime)\n"
   ]
  },
  {
   "cell_type": "markdown",
   "metadata": {},
   "source": [
    "4\\. Find out the duration of the data taking in hours, minutes and seconds, by using the features of the Time Series. Perform this check reading the whole dataset."
   ]
  },
  {
   "cell_type": "code",
   "execution_count": null,
   "metadata": {},
   "outputs": [],
   "source": []
  },
  {
   "cell_type": "markdown",
   "metadata": {},
   "source": [
    "5\\. Use the `.groupby()` method to find out the noisy channels, i.e. the TDC channels with most counts (print to screen the top 3 and the corresponding counts)"
   ]
  },
  {
   "cell_type": "code",
   "execution_count": null,
   "metadata": {},
   "outputs": [],
   "source": []
  },
  {
   "cell_type": "markdown",
   "metadata": {},
   "source": [
    "6\\. Count the number of non-empty orbits (i.e. the number of orbits with at least one hit)."
   ]
  },
  {
   "cell_type": "code",
   "execution_count": null,
   "metadata": {},
   "outputs": [],
   "source": []
  },
  {
   "cell_type": "markdown",
   "metadata": {},
   "source": [
    "7\\. Count the number of unique orbits with at least one measurement from TDC_CHANNEL=139."
   ]
  },
  {
   "cell_type": "code",
   "execution_count": null,
   "metadata": {},
   "outputs": [],
   "source": []
  },
  {
   "cell_type": "markdown",
   "metadata": {},
   "source": [
    "8\\. Create two Series (one for each FPGA) that have the TDC channel as index, and the number of counts for the corresponding TDC channel as values."
   ]
  },
  {
   "cell_type": "code",
   "execution_count": null,
   "metadata": {},
   "outputs": [],
   "source": []
  },
  {
   "cell_type": "markdown",
   "metadata": {},
   "source": [
    "9\\. **Optional:** Create two histograms (one for each FPGA) that show the number of counts for each TDC channel."
   ]
  },
  {
   "cell_type": "code",
   "execution_count": null,
   "metadata": {},
   "outputs": [],
   "source": []
  }
 ],
 "metadata": {
  "kernelspec": {
   "display_name": "Python 3 (ipykernel)",
   "language": "python",
   "name": "python3"
  },
  "language_info": {
   "codemirror_mode": {
    "name": "ipython",
    "version": 3
   },
   "file_extension": ".py",
   "mimetype": "text/x-python",
   "name": "python",
   "nbconvert_exporter": "python",
   "pygments_lexer": "ipython3",
   "version": "3.10.8"
  }
 },
 "nbformat": 4,
 "nbformat_minor": 2
}
