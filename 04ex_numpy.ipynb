{
 "cells": [
  {
   "cell_type": "markdown",
   "metadata": {},
   "source": [
    "1\\. **Reductions**\n",
    "\n",
    "Find the total mean, and the mean for each row and column of the following matrix:\n",
    "\n",
    "```python\n",
    "m = np.arange(12).reshape((3,4))\n",
    "```"
   ]
  },
  {
   "cell_type": "code",
   "execution_count": 2,
   "metadata": {},
   "outputs": [
    {
     "name": "stdout",
     "output_type": "stream",
     "text": [
      "matrix: \n",
      " [[ 0  1  2  3]\n",
      " [ 4  5  6  7]\n",
      " [ 8  9 10 11]]\n",
      "\n",
      "rows' means:  [4.0, 5.0, 6.0, 7.0]\n",
      "\n",
      "columns' means:  [1.5, 5.5, 9.5]\n",
      "\n",
      "total mean:  5.5\n"
     ]
    }
   ],
   "source": [
    "import numpy as np\n",
    "\n",
    "m = np.arange(12).reshape((3,4))\n",
    "\n",
    "shape_m = m.shape\n",
    "row = []\n",
    "column = []\n",
    "total = 0\n",
    "\n",
    "for i in range(shape_m[1]):\n",
    "    mean_row = 0\n",
    "    for j in range(shape_m[0]):\n",
    "        mean_row = mean_row + m[j][i]\n",
    "    row.append(mean_row/shape_m[0])\n",
    "    total = total + mean_row\n",
    "\n",
    "total = total/(shape_m[0]*shape_m[1])\n",
    "\n",
    "for j in range(shape_m[0]):\n",
    "    mean_column = 0\n",
    "    for i in range(shape_m[1]):\n",
    "        mean_column = mean_column + m[j][i]\n",
    "    column.append(mean_column/shape_m[1])\n",
    "    \n",
    "print(\"matrix: \\n\",m)\n",
    "print(\"\")\n",
    "print(\"rows' means: \",row)\n",
    "print(\"\")\n",
    "print(\"columns' means: \",column)\n",
    "print(\"\")\n",
    "print(\"total mean: \",total)"
   ]
  },
  {
   "cell_type": "markdown",
   "metadata": {},
   "source": [
    "2\\. **Outer product**\n",
    "\n",
    "Find the outer product of the following vectors:\n",
    "\n",
    "```python\n",
    "u = np.array([1, 3, 5, 7])\n",
    "v = np.array([2, 4, 6, 8])\n",
    "```\n",
    "\n",
    "Use different methods to do this:\n",
    "\n",
    "   1. Using the function `outer` in numpy\n",
    "   2. Using a nested `for` loop or a list comprehension\n",
    "   3. Using numpy broadcasting operations"
   ]
  },
  {
   "cell_type": "code",
   "execution_count": 19,
   "metadata": {},
   "outputs": [
    {
     "name": "stdout",
     "output_type": "stream",
     "text": [
      "[[ 2  4  6  8]\n",
      " [ 6 12 18 24]\n",
      " [10 20 30 40]\n",
      " [14 28 42 56]]\n",
      "\n",
      "[[ 2.  4.  6.  8.]\n",
      " [ 6. 12. 18. 24.]\n",
      " [10. 20. 30. 40.]\n",
      " [14. 28. 42. 56.]]\n",
      "\n",
      "[[ 2  4  6  8]\n",
      " [ 6 12 18 24]\n",
      " [10 20 30 40]\n",
      " [14 28 42 56]]\n"
     ]
    }
   ],
   "source": [
    "u = np.array([1, 3, 5, 7])\n",
    "v = np.array([2, 4, 6, 8])\n",
    "\n",
    "#1\n",
    "w = np.outer(u, v)\n",
    "print(w)\n",
    "\n",
    "#2\n",
    "w = np.empty([len(u),len(v)])\n",
    "\n",
    "for i in range(len(u)):\n",
    "    for j in range(len(v)):\n",
    "        w[i,j] = u[i]*v[j]\n",
    "\n",
    "print(\"\")    \n",
    "print(w)\n",
    "\n",
    "#3\n",
    "w = (np.tile(u, (1, 1)).T)*v\n",
    "\n",
    "print(\"\")    \n",
    "print(w)"
   ]
  },
  {
   "cell_type": "markdown",
   "metadata": {},
   "source": [
    "3\\. **Matrix masking**\n",
    "\n",
    "Create a 10 by 6 matrix of float random numbers, distributed between 0 and 3 according to a flat distribution.\n",
    "\n",
    "After creating the matrix, set all entries $< 0.3$ to zero using a mask."
   ]
  },
  {
   "cell_type": "code",
   "execution_count": 20,
   "metadata": {},
   "outputs": [
    {
     "name": "stdout",
     "output_type": "stream",
     "text": [
      "[[1.07294392 1.47528781 0.87382653 2.22025714 0.49870427 0.8514895 ]\n",
      " [3.82937533 2.48102777 1.03959719 3.17122645 2.44174395 3.6391229 ]\n",
      " [1.31067123 1.10153486 2.66498913 3.64584579 0.43668131 1.42124246]\n",
      " [2.0913663  2.02287665 2.26511642 2.87348197 3.53123412 1.57004723]\n",
      " [1.65534816 1.66278654 1.92888573 3.82128986 1.4255955  2.3717619 ]\n",
      " [0.16557811 3.03785357 1.10053517 1.35765533 3.89122798 0.19794456]\n",
      " [0.10799469 3.12641161 1.01439427 2.42726853 3.23361946 1.45802733]\n",
      " [3.12684097 3.28812399 3.58466321 0.2270344  3.09475167 1.6786641 ]\n",
      " [3.12457733 3.12663357 2.84322907 3.26148251 1.34668386 0.98487738]\n",
      " [0.26495507 0.33832882 3.41383883 1.54666419 2.13821114 0.57143122]]\n"
     ]
    }
   ],
   "source": [
    "mat = np.random.uniform(0,4,[10,6])\n",
    "\n"
   ]
  },
  {
   "cell_type": "markdown",
   "metadata": {},
   "source": [
    "4\\. **Trigonometric functions**\n",
    "\n",
    "Use `np.linspace` to create an array of 100 numbers between $0$ and $2\\pi$ (inclusive).\n",
    "\n",
    "  * Extract every 10th element using the slice notation\n",
    "  * Reverse the array using the slice notation\n",
    "  * Extract elements where the absolute difference between the `sin` and `cos` functions evaluated for that element is $< 0.1$\n",
    "  * **Optional**: make a plot showing the sin and cos functions and indicate where they are close"
   ]
  },
  {
   "cell_type": "code",
   "execution_count": null,
   "metadata": {},
   "outputs": [],
   "source": []
  },
  {
   "cell_type": "markdown",
   "metadata": {},
   "source": [
    "5\\. **Matrices**\n",
    "\n",
    "Create a matrix that shows the 10 by 10 multiplication table.\n",
    "\n",
    " * Find the trace of the matrix\n",
    " * Extract the anti-diagonal matrix (this should be ```array([10, 18, 24, 28, 30, 30, 28, 24, 18, 10])```)\n",
    " * Extract the diagonal offset by 1 upwards (this should be ```array([ 2,  6, 12, 20, 30, 42, 56, 72, 90])```)"
   ]
  },
  {
   "cell_type": "code",
   "execution_count": null,
   "metadata": {},
   "outputs": [],
   "source": []
  },
  {
   "cell_type": "markdown",
   "metadata": {},
   "source": [
    "6\\. **Broadcasting**\n",
    "\n",
    "Use broadcasting to create a grid of distances.\n",
    "\n",
    "Route 66 crosses the following cities in the US: Chicago, Springfield, Saint-Louis, Tulsa, Oklahoma City, Amarillo, Santa Fe, Albuquerque, Flagstaff, Los Angeles.\n",
    "\n",
    "The corresponding positions in miles are: 0, 198, 303, 736, 871, 1175, 1475, 1544, 1913, 2448\n",
    "\n",
    "  * Build a 2D grid of distances among each city along Route 66\n",
    "  * Convert the distances in km"
   ]
  },
  {
   "cell_type": "code",
   "execution_count": null,
   "metadata": {},
   "outputs": [],
   "source": []
  },
  {
   "cell_type": "markdown",
   "metadata": {},
   "source": [
    "7\\. **Prime numbers sieve**\n",
    "\n",
    "Compute the prime numbers in the 0-N (start with N=99) range with a sieve (mask).\n",
    "\n",
    "  * Constract a shape (N,) boolean array, which is the mask\n",
    "  * Identify the multiples of each number starting from 2 and set accordingly the corresponding mask element\n",
    "  * Apply the mask to obtain an array of ordered prime numbers\n",
    "  * Check the performances (with `timeit`); how does it scale with N?\n",
    "  * Implement the optimization suggested in the [sieve of Eratosthenes](https://en.wikipedia.org/wiki/Sieve_of_Eratosthenes)"
   ]
  },
  {
   "cell_type": "code",
   "execution_count": null,
   "metadata": {},
   "outputs": [],
   "source": []
  },
  {
   "cell_type": "markdown",
   "metadata": {},
   "source": [
    "8\\. **Diffusion using random walk**\n",
    "\n",
    "Consider a simple random walk process: at each step in time, a walker jumps right or left (+1 or -1) with equal probability. The goal is to find the typical distance from the origin of many random walkers after a given amount of time.\n",
    "\n",
    "*Hint*: create a 2D array where each row represents a walker, and each column represents a time step.\n",
    "\n",
    "  * Take 1000 walkers and let them walk for 200 steps\n",
    "  * Use `randint` to create a 2D array of size $walkers \\times steps$ with values -1 or 1\n",
    "  * Calculate the walking distances for each walker (e.g. by summing the elements in each row)\n",
    "  * Take the square of the previously-obtained array (element-wise)\n",
    "  * Compute the mean of the squared distances at each step (i.e. the mean along the columns)\n",
    "  * **Optional**: plot the average distances ($\\sqrt(distance^2)$) as a function of time (step)"
   ]
  },
  {
   "cell_type": "code",
   "execution_count": null,
   "metadata": {},
   "outputs": [],
   "source": []
  }
 ],
 "metadata": {
  "kernelspec": {
   "display_name": "Python 3 (ipykernel)",
   "language": "python",
   "name": "python3"
  },
  "language_info": {
   "codemirror_mode": {
    "name": "ipython",
    "version": 3
   },
   "file_extension": ".py",
   "mimetype": "text/x-python",
   "name": "python",
   "nbconvert_exporter": "python",
   "pygments_lexer": "ipython3",
   "version": "3.10.8"
  }
 },
 "nbformat": 4,
 "nbformat_minor": 2
}
